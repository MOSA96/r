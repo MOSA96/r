{
 "cells": [
  {
   "cell_type": "markdown",
   "metadata": {},
   "source": [
    "# Ciencia de datos con R"
   ]
  },
  {
   "cell_type": "markdown",
   "metadata": {},
   "source": [
    "Para poder hacer ciencia de datos con R primero necesitamos instalar nuestras librerías, en este caso instalaremos <a href=\"https://www.tidyverse.org/\">Tidyverse</a> una librería de R para ciencia de datos. Para esto basta con ejecutar la siguiente línea de código en RStudio, consola de R o tu Jupyter Notebook.\n",
    "\n",
    "<code>install.packages(\"tidyverse\") </code>\n",
    "\n",
    "Esta línea garantiza que el paquete ha sido instalado pero no significa que lo podamos utilizar para esto tenemos que importar la librerias. En R importarmos las librerias con\n",
    "\n",
    "<code> library(tidyverse) </code>\n",
    "\n",
    "Este es el equivalente a un <code> import </code> en Python. A lo largo de este tutorial también se harán uso de otras 3 librerías, <a href=\"https://cran.r-project.org/web/packages/nycflights13/index.html\">nycflights13</a>, <a href=\"https://cran.r-project.org/web/packages/gapminder/README.html\">gapminder</a> y <a href=\"https://cran.r-project.org/web/packages/Lahman/index.html\">Lahman</a>. En primero consiste de una base de datos del Nueva York en el año 2013, el segundo son datos de la esperanza de vida, GPD per capita y población de 1952 a 2007 y la última corresponde a una base de datos del beisbol."
   ]
  },
  {
   "cell_type": "code",
   "execution_count": null,
   "metadata": {},
   "outputs": [],
   "source": []
  }
 ],
 "metadata": {
  "kernelspec": {
   "display_name": "R",
   "language": "R",
   "name": "ir"
  },
  "language_info": {
   "codemirror_mode": "r",
   "file_extension": ".r",
   "mimetype": "text/x-r-source",
   "name": "R",
   "pygments_lexer": "r",
   "version": "3.6.1"
  }
 },
 "nbformat": 4,
 "nbformat_minor": 4
}
